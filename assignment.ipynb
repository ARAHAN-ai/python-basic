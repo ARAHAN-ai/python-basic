{
  "nbformat": 4,
  "nbformat_minor": 0,
  "metadata": {
    "colab": {
      "provenance": []
    },
    "kernelspec": {
      "name": "python3",
      "display_name": "Python 3"
    },
    "language_info": {
      "name": "python"
    }
  },
  "cells": [
    {
      "cell_type": "markdown",
      "source": [
        "PYTHON BASICS"
      ],
      "metadata": {
        "id": "yiiXr37lDHZN"
      }
    },
    {
      "cell_type": "markdown",
      "source": [
        "Q1 WHAT IS PYTHON AND WHY IS IT POPULAR?\n",
        "\n",
        "- PYTHON IS A HIGH LEVEL,GENERAL PURPOSE PROGRAMMING LANGUAGE KNOWN FOR ITS SYNTAX,READABILITY AND VERSATILITY. IT'S POPULAR BECAUSE IT'S USED IN VARIOUS FIELDS,INCLUDING WEB DEVELOPMENT,DATA SCIENCE,MACHINE LEARNING AND SCRIPTING."
      ],
      "metadata": {
        "id": "8cKNlIneDb07"
      }
    },
    {
      "cell_type": "markdown",
      "source": [
        "Q2 WHAT IS AN INTERPRETER IN PYTHON?\n",
        "\n",
        ". AN INTERPRETER IN PYTHON IS A PROGRAM THAT EXECUTES CODE LINE BY LINE. IT TRANSLATES THE SOURCE CODE INTO MACHINE CODE AND RUNS IT IMMEDIATELY,UNLIKE COMPILERS THAT TRANSLATTE THE ENTIRE CODE AT ONCE."
      ],
      "metadata": {
        "id": "1z86_RU3FmWp"
      }
    },
    {
      "cell_type": "markdown",
      "source": [
        "Q3 WHAT ARE PRE-DEFINED KEYWORDS IN PYTHON?\n",
        "\n",
        "- PRE-DEFINED KEYWORDS IN PYTHON ARE RESERVED WORDS THAT HAVE SPECIFIC MEANINGS AND CANNOT BE USED AS VARIABLE NAMES OR IDENTIFIERS. EXAMPLES INCLUDE 'IF','ELSE','FOR','CLASS',ETC."
      ],
      "metadata": {
        "id": "OCmInl6jIe2s"
      }
    },
    {
      "cell_type": "markdown",
      "source": [
        "Q4 CAN KEYWORDS BE USED AS VARIABLE NAMES?\n",
        "\n",
        "- NO,KEYWORDS CANNOT BE USED AS VARIABLE NAMES IN PYTHON.THEY ARE RESERVED WORDS WITH PREDEFINED MEANING."
      ],
      "metadata": {
        "id": "_5YxI2DCLSyi"
      }
    },
    {
      "cell_type": "markdown",
      "source": [
        " Q5 WHAT IS MUTABILITY IN PYTHON?\n",
        "\n",
        "- MUTABILITY IN PYTHON REFERS TO THE ABILITY OF AN OBJECT TO CHANGE ITS VALUE AFTER IT HAS BEEN CREATED.MUTABLE OBJECTS,LIKE LISTS AND DICTIONARIES,CAN BE MODIFIED,WHILE IMMUTABLE OBJECTS,LIKE INTEGERS AND STRINGS,CANNOT."
      ],
      "metadata": {
        "id": "vSLCU7fUMS-k"
      }
    },
    {
      "cell_type": "markdown",
      "source": [
        "Q6 WHY ARE LISTS MUTABLE,TUPLES ARE IMMUTABLE?\n",
        "\n",
        "- LISTS ARE MUTABLE IN PYTHON BECAUSE THEY ARE DESIGNED TO BE DYNAMIC COLLECTIONS,ALLOWING FOR EASY ADDITION,REMOVAL OR MODIFICATION OF ELEMENTS. TUPLES ARE IMMUTABLE TO PROVIDE DATA INTEGRITY AND CAN BE USED AS DICTIONARY KEYS,WHICH REQUIRE IMMUTABILITY"
      ],
      "metadata": {
        "id": "yfdZuk2QN23j"
      }
    },
    {
      "cell_type": "markdown",
      "source": [
        "Q7 WHAT IS DIFFRENCE BETWEEN \"==\" AND\"IS\" OPERATORS IN PYTHON?\n",
        "\n",
        "- THE \"==\" OPERATOR IN PYTHON CHECKS IF THE VALUES OF TWO OBJECTS ARE EQUAL,WHILE \"IS\" OPERATOR CHECKS IF TWO VARIABLES REFER TO SAME OBJECT IN MEMORY.\"==\" COMPARES VALUES,WHILE \"IS\" COMPARES IDENTITIES"
      ],
      "metadata": {
        "id": "9fuIs0-uZ9KO"
      }
    },
    {
      "cell_type": "markdown",
      "source": [
        "Q8 WHAT ARRE LOGICAL OPERATORS IN PYTHON?\n",
        "\n",
        "- LOGICAL OPERATORS IN PYTHON ARE USED TO COMBINE CONDITIONAL STATEMENTS AND PERFORM LOGICAL OPERATIONS ON BOOLEAN VALUES(TRUE OR FALSE).THEY ARE TYPICALLY USED IN CONTROL FLOW STATEMENTS LIKE IF,WHILEAND IN EXPRESSIONS INVOLVING CONDITIONS."
      ],
      "metadata": {
        "id": "nJjVVtvDiuUo"
      }
    },
    {
      "cell_type": "markdown",
      "source": [
        "Q9 WHAT IS TYPE CASTING IN PYTHON?\n",
        "\n",
        "- TYPE CASTING IN PYTHON IS THE PROCESS OF CONVERTING ONE DATA TYPE TO ANOTHER.THIS IS DONE TO ENSURE THAT THE DATA IS IN FORMAT THAT IS COMPATIBLE WITH OPERATIONS YOU WANT TO PERFORM.PYTHON SUPPORTS SEVERAL BUILD-IN FUCTIONS FOR TYPE CASTING,SUCH AS'INT()','FLOAT()','STR()','LIST(),AND'TUPLE()'."
      ],
      "metadata": {
        "id": "sjd2mvFaj5a3"
      }
    },
    {
      "cell_type": "markdown",
      "source": [
        "Q10 WHAT IS THE DIFFERENCE BETWEEN IMPLICIT AND EXPLICIT TYPE CASTING?\n",
        "\n",
        "- IMPLICIT TYPE CASTING(ALSO KNOWN AS COERCION) IS WHEN PYTHON AUTOMATICALLY CONVERTS ONE DATA TYPE TO ANOTHER,USUALLY WHEN YOU PERFORMS OPERATIONS WITH MIXED DATA TYPES.EXPLICIT TYPE CASTING IS WHEN YOU MANUALLY CONVERT A DATA TYPE USIMG FUNCTIONS LIKE 'INT()','FLOAT()',OR'STR()'."
      ],
      "metadata": {
        "id": "kTWWHZIclxnt"
      }
    },
    {
      "cell_type": "markdown",
      "source": [
        "Q11 WHAT IS THE PURPOSE OF CONDITIONAL STATEMENTS IN PYTHON?\n",
        "\n",
        "- CONDITIONAL STATEMENTS IN PYTHON ALLOW YOU TO CONTROL THE FLOW EXECUTION OF YOUR CODE BASED ON CERTAIN CONDITIONS.THEY ENABLE YOU TO EXECUTE DIFFRENT BLOCKS OF CODE DEPENDING ON WHETHER A CONDITION IS TRUE OR FALSE. THE PRIMARY CONDITIONAL STATEMENTS IN PYTHON ARE'IF','ELIF',AND 'ELSE'. THEY'RE ESSENTIAL FOR MAKING DECISIONS IN YOUR PROGRAMS."
      ],
      "metadata": {
        "id": "TwBhS-npnfaK"
      }
    },
    {
      "cell_type": "markdown",
      "source": [
        "Q12 HOW DOES THE ELIF STATEMENT WORK?\n",
        "\n",
        "- THE 'ELIF' STATEMENT IN PYTHON IS SHORT FOR \"ELSE IF.\" IT ALLOWS YOU TO CHECK MULTIPLE CONDITIONS IN SEQUENCE.IF THE 'IF' CONDITION IS FALSE,PYTHON CHECKS RHE'ELIF' CONDITION.IF THATS TRUE,THE CODE BLOCK UNDER THAT'ELIF'IS EXECUTED.YOU CAN HAVE MULTIPLE'ELIF'STATEMENTS TO CHECK VARIOUS CONDTIONS AND IF NONE OF THE 'IF' OR'ELIF'CONDITIONS ARE TRUE,THE 'ELSE'BLOCK(IF PRESENT) IS EXECUTED."
      ],
      "metadata": {
        "id": "klWCV0P1qd3A"
      }
    },
    {
      "cell_type": "markdown",
      "source": [
        "Q13 WHAT IS DIFFRENCE BETWEEEN FOR AND WHILE LOOPS?\n",
        "\n",
        "- 'FOR' LOOPS IN PHYTON ARE USED FOR ITERATING OVER A SEQUENCE(LIKE A LIST,TUPLE,STRING OR RANGE).THEY ARE EXECUTE A BLOCK OF CODE FOR EACH ITEM IN THE SEQUENCE.'WHILE' LOOPS ON OTHER HAND,CONTINUE TO EXECUTE A BLOCK OF CODE AS LONG AS A SPECIFIED CONDTIONS IS TRUE.THE KEY DEFFRENCE BETWEEN IS THAT'FOR'LOOPD ARE DESIGNED FOR ITERATING OVER A KNOWN SEQUENCE,WHILE'WHILE'LOOPS ARE USED WHEN YOU WANT TO REPEAT A BLOCK OF CODE UNTIL A CONDITION IS MET,REGARDLESS OF PREDEFINED SEQUENCE."
      ],
      "metadata": {
        "id": "nA3rMc3TvCGZ"
      }
    },
    {
      "cell_type": "markdown",
      "source": [
        "Q14 DESCRIBE A SCENARIO WHERE A WHILE LOOP IS MORE SUITABLE THAN A FOR LOOP.\n",
        "\n",
        "- A 'WHILE' LOOP IS MORE SUITABLE THAN A 'FOR'LOOP WHEN YOU DON'T KNOW IN ADVANCE HOW MANY TIMES YOU NEED TO ITERATE.FOR EXAMPLE,CONSIDER A SCENARIO WHEN YOU'RE ASKING A USER TO ENTER A NUMBER ,AND YOU WANT TO KEEP ASKING UNTIL THEY ENTER POSITIVE NUMBER.YOU DON'T KNOW HOW MANY ATTEMPTS IT WILL TAKE FOR THE USER TO ENTER A VALID INPUT,SO A 'WHILE'LOOP,WHICH CONTINUES AS LONG AS THE INPUT IS NOT POSITIVE,IS IDEAL."
      ],
      "metadata": {
        "id": "Y9GFhYcmxNY4"
      }
    },
    {
      "cell_type": "markdown",
      "source": [
        "PRATICAL QUESTIONS\n",
        "\n"
      ],
      "metadata": {
        "id": "P3MZgie01wVj"
      }
    },
    {
      "cell_type": "code",
      "source": [
        "#Q Q1 WRITE A PYTHON PROGRAM TO PRINT \"HELLO,WORLD!\n",
        "\n",
        "\n",
        "''' PYTHON\n",
        "PRINT (HELLO,WORLD!)\n",
        "'''\n",
        "\n"
      ],
      "metadata": {
        "id": "00_yaEYC28os"
      },
      "execution_count": null,
      "outputs": []
    },
    {
      "cell_type": "code",
      "source": [
        "# Q2 WRITE A PYTHON PROGRAM THAT DISPLAYS YOUR NAME AND AGE.\n",
        "\n",
        "\n",
        "'''PYTHON\n",
        "NAME=\"ARAHAN\"\n",
        "AGE=19\n",
        "PRINT(\"ARAHAN\",\"19\")\n",
        "'''"
      ],
      "metadata": {
        "id": "A3OIYIFI9iZs"
      },
      "execution_count": null,
      "outputs": []
    },
    {
      "cell_type": "code",
      "source": [
        "# Q3 WRITE CODE TO PRINT ALL THE PRE-DEFINED KEYWORDS IN PYTHON USING KEYWORD LIBRARY.\n",
        "\n",
        "'''PYTHON\n",
        "IMPORT KEYWORD\n",
        "PRINT(KEYWORD.KWLIST)\n",
        "'''"
      ],
      "metadata": {
        "id": "Jt3EWPat_q4B"
      },
      "execution_count": null,
      "outputs": []
    },
    {
      "cell_type": "code",
      "source": [
        "# Q4 WRITE A PROGRAM THAT CHECKS IF A GIVEN WORD IS A PYTHON KEYWORD.\n",
        "\n",
        "'''PYTHON\n",
        "IMPORT KEYWORD\n",
        "\n",
        "DEF IS_KEYWORD(WORD):\n",
        "  IF KEYWORD.ISKEYWORD(WORD):\n",
        "     RETURN TRUE\n",
        "   ELSE:\n",
        "     RETURN FALSE\n",
        "\n",
        "WORD=\"FOR\"\n",
        "IF IS_KEYWORD(WORD):\n",
        "   PRINT(F\"'{WORD}'IS A PYTHON KEYWORD.\")\n",
        "\n",
        "ELSE:\n",
        "  PRINT(F\"'{WORD}'IS NOT A PYTHON KEYWORD.\")\n",
        "'''\n",
        ""
      ],
      "metadata": {
        "id": "TsqwHdSGAbkf"
      },
      "execution_count": null,
      "outputs": []
    },
    {
      "cell_type": "code",
      "source": [
        "# Q5 CREATE A LIST AND TUPLE IN PYTHON,AND DEMONSTRATE HOW ATTEMPTING TO CHANGE AN ELEMENT  WORKS DIFFERENTLY FOR EACH.\n",
        "\n",
        "'''PYTHON\n",
        "#CREATING A LIST\n",
        "MY_LIST=[1,2,3]\n",
        "\n",
        "#CREATING A TUPLE\n",
        "MY_TUPLE=(1,2,3)\n",
        "\n",
        "#ATTEMPTING TO CHANGE AN ELEMENT IN THE LIST\n",
        "MY_LIST[0]=10 #THIS WILL WORK,LIST IS MUTABLE\n",
        "PRINT(MODIFIED LIST:,MY_LIST)\n",
        "\n",
        "#ATTEMPTING TO CHANGE AN ELEMENT IN THE TUPLE\n",
        "TRY;\n",
        "MY_TUPLE[0]=10 #THIS WILL RAISE A TYPEERROR,THE TRUPLE IS IMMUTABLE EXCEPT TYPEERROR AS E :\n",
        "PRINT(E) # OUTPUT:'tuple'OBJECT DOES NOT SUPPORT ITEM ASSIGNMENT\n",
        "'''\n",
        "\n",
        "\n",
        "# IN THIS CODE:\n",
        "- A LIST 'MY_LIST'IS CREATED,AND WE SUCCESSFULLY CHNAGE ITS FIRST ELEMENT FROM1 TO 10 BECAUSE LISTS ARE MUTABLE\n",
        "- A TUPLE'MY_TUPLE' IS CREATED.WEHN WE TRY TO CHANGE ITS FIRST ELEMENTS,A'TYPEERROR' OCCURS BECAUSE TUPLES ARE IMMUTABLE,MEANING THEIR ELEMENTS CANNOT BE CHANGED AFTER CREATION ."
      ],
      "metadata": {
        "id": "36gsLHaNDXPI"
      },
      "execution_count": null,
      "outputs": []
    },
    {
      "cell_type": "code",
      "source": [
        "# Q6 WRITE A FUNCTION TO DEMONSTRATE THE BEHAVIOR OF MUTABLE AND IMMUTABLE ARGUMENTS.\n",
        "\n",
        "'''python\n",
        "def modify_argument(mutable_arg, immutable_arg):\n",
        "    \"\"\"\n",
        "    Demonstrates the behavior of mutable and immutable arguments in Python.\n",
        "\n",
        "    Args:\n",
        "        mutable_arg: A mutable object (e.g., a list).\n",
        "        immutable_arg: An immutable object (e.g., an integer).\n",
        "    \"\"\"\n",
        "    # Modify the mutable argument\n",
        "    mutable_arg.append(4)\n",
        "    print(\"Inside function - mutable_arg:\", mutable_arg)\n",
        "\n",
        "    # Try to modify the immutable argument (this will create a new object)\n",
        "    immutable_arg = immutable_arg + 1\n",
        "    print(\"Inside function - immutable_arg:\", immutable_arg)\n",
        "\n",
        "# Example usage:\n",
        "my_list = [1, 2, 3]\n",
        "my_int = 5\n",
        "\n",
        "print(\"Before function call - my_list:\", my_list)\n",
        "print(\"Before function call - my_int:\", my_int)\n",
        "\n",
        "modify_argument(my_list, my_int)\n",
        "\n",
        "print(\"After function call - my_list:\", my_list)\n",
        "print(\"After function call - my_int:\", my_int)\n",
        "'''\n",
        "\n",
        "# In this example:\n",
        "\n",
        "1.  Mutable Argument (List):\n",
        "    -   Inside the modify_argument function, we append(4) to mutable_arg. Since lists are mutable, this modifies the original list object passed to the function.\n",
        "    -   As a result, when we print my_list after the function call, it reflects the change.\n",
        "\n",
        "2.  Immutable Argument (Integer):\n",
        "    -   Inside the function, we try to increment immutable_arg with immutable_arg = immutable_arg + 1.  Because integers are immutable, this doesn't change the original my_int.  Instead, a new integer object is created inside the function, and the immutable_arg variable now refers to this new object.\n",
        "    -   When we print my_int after the function call, it retains its original value because the original object was never modified."
      ],
      "metadata": {
        "id": "uj-7R0ieHLGu"
      },
      "execution_count": null,
      "outputs": []
    },
    {
      "cell_type": "code",
      "source": [
        "# Q7 write a program that performs basic arithmetic operations on two user-input numbers.\n",
        "\n",
        "'''python\n",
        "def arithmetic_operations()\n",
        "   \"\"\"\n",
        "   try:\n",
        "      num1=float(input(\"enter the first number:\"))\n",
        "      num2=float(input(\"enter the second number:\"))\n",
        "\n",
        "     # perform arithetic operations\n",
        "      sum_result=num1+num2\n",
        "      difference_result=num1-num2\n",
        "      product_result=num1*num2\n",
        "\n",
        "      # handle division to avoid\n",
        "zero division error\n",
        "      if num2!=0:\n",
        "        quotient_result=num1/num2\n",
        "      else:\n",
        "        quotient_result=\"division by zero is not allowed\"\n",
        "\n",
        "        #display the results\n",
        "      print(\"sum:\",sum_result)\n",
        "      print(\"difference:\",difference_result)\n",
        "      print(\"product:\",product_result)\n",
        "      print(\"quotient:\",quotient_result)\n",
        "\n",
        "    expect value error:\n",
        "    print(\"invalid input.please enter numbers only.\")\n",
        "\n",
        "    #run the program\n",
        "    arithmetic_operations()\n",
        "'''"
      ],
      "metadata": {
        "id": "M_dt8RSrKF7D"
      },
      "execution_count": null,
      "outputs": []
    },
    {
      "cell_type": "code",
      "source": [
        "# Q8 WRITE A PROGRAM TO DEMOSTRATE THE USE OF LOGICAL OPERATORS.\n",
        "\n",
        "'''python\n",
        "def logical_operators_demo():\n",
        "    \"\"\"\n",
        "    Demonstrates the use of logical operators (and, or, not).\n",
        "    \"\"\"\n",
        "    a = True\n",
        "    b = False\n",
        "\n",
        "    # AND operator\n",
        "    print(\"AND operator:\")\n",
        "    print(f\"True and True: {a and a}\") # Output: True\n",
        "    print(f\"True and False: {a and b}\") # Output: False\n",
        "    print(f\"False and True: {b and a}\") # Output: False\n",
        "    print(f\"False and False: {b and b}\") # Output: False\n",
        "\n",
        "    # OR operator\n",
        "    print(\"\\nOR operator:\")\n",
        "    print(f\"True or True: {a or a}\")  # Output: True\n",
        "    print(f\"True or False: {a or b}\")  # Output: True\n",
        "    print(f\"False or True: {b or a}\")  # Output: True\n",
        "    print(f\"False or False: {b or b}\")  # Output: False\n",
        "\n",
        "    # NOT operator\n",
        "    print(\"\\nNOT operator:\")\n",
        "    print(f\"not True: {not a}\")  # Output: False\n",
        "    print(f\"not False: {not b}\") # Output: True\n",
        "\n",
        "# Run the demo\n",
        "logical_operators_demo()\n",
        "'''"
      ],
      "metadata": {
        "id": "N66_aDqjNzSV"
      },
      "execution_count": null,
      "outputs": []
    },
    {
      "cell_type": "code",
      "source": [
        "# Q9 write a python program to convert user input from string to integer,float,and boolean types.\n",
        "\n",
        "'''python\n",
        "def convert_input():\n",
        "    \"\"\"\n",
        "    Converts user input from string to integer, float, and boolean types.\n",
        "    \"\"\"\n",
        "\n",
        "    user_input = input(\"Enter a value: \")\n",
        "\n",
        "    try:\n",
        "        # Convert to integer\n",
        "        int_value = int(user_input)\n",
        "        print(f\"Integer: {int_value}, Type: {type(int_value)}\")\n",
        "    except ValueError:\n",
        "        print(\"Cannot convert to integer.\")\n",
        "\n",
        "    try:\n",
        "        # Convert to float\n",
        "        float_value = float(user_input)\n",
        "        print(f\"Float: {float_value}, Type: {type(float_value)}\")\n",
        "    except ValueError:\n",
        "        print(\"Cannot convert to float.\")\n",
        "\n",
        "    # Convert to boolean (using a simple heuristic)\n",
        "    if user_input.lower() == 'true':\n",
        "        bool_value = True\n",
        "    elif user_input.lower() == 'false':\n",
        "        bool_value = False\n",
        "    else:\n",
        "        bool_value = bool(user_input)  # Any non-empty string becomes True\n",
        "    print(f\"Boolean: {bool_value}, Type: {type(bool_value)}\")\n",
        "\n",
        "\n",
        "# Run the conversion\n",
        "convert_input()\n",
        "'''"
      ],
      "metadata": {
        "id": "qK3MnHs5Oj_P"
      },
      "execution_count": null,
      "outputs": []
    },
    {
      "cell_type": "code",
      "source": [
        "# Q10 write code to demonstrate type casting with list elements.\n",
        "\n",
        "'''python\n",
        "# Sample list with mixed data types\n",
        "my_list = [10, \"20\", 30.5, \"40.5\", True, False]\n",
        "\n",
        "# Demonstrate type casting\n",
        "\n",
        "# 1. Converting elements to integers\n",
        "int_list = []\n",
        "for item in my_list:\n",
        "    try:\n",
        "        int_list.append(int(item))  # Attempt conversion to integer\n",
        "    except ValueError:\n",
        "        int_list.append(None)  # Handle non-integer convertible items\n",
        "print(f\"Integer List: {int_list}\")\n",
        "\n",
        "# 2. Converting elements to floats\n",
        "float_list = []\n",
        "for item in my_list:\n",
        "    try:\n",
        "        float_list.append(float(item))  # Attempt conversion to float\n",
        "    except ValueError:\n",
        "        float_list.append(None)  # Handle non-float convertible items\n",
        "print(f\"Float List: {float_list}\")\n",
        "\n",
        "# 3. Converting elements to strings (simple conversion)\n",
        "string_list = [str(item) for item in my_list]  # Convert each element to string\n",
        "print(f\"String List: {string_list}\")\n",
        "\n",
        "# 4. Converting elements to boolean (more complex, consider the values)\n",
        "bool_list = []\n",
        "for item in my_list:\n",
        "    if isinstance(item, str):\n",
        "        bool_list.append(bool(item))  # Empty strings are False, others True\n",
        "    else:\n",
        "        bool_list.append(bool(item)) # Other numeric values follow boolean rules.\n",
        "print(f\"Boolean List: {bool_list}\")\n",
        "'''"
      ],
      "metadata": {
        "id": "hyD1kKBVP3Ci"
      },
      "execution_count": null,
      "outputs": []
    },
    {
      "cell_type": "code",
      "source": [
        "# Q11 write a program that checks if number is positive,negative or zero.\n",
        "\n",
        "\n",
        "'''python\n",
        "def check_number(number):\n",
        "    \"\"\"\n",
        "    Checks if a number is positive, negative, or zero.\n",
        "\n",
        "    Args:\n",
        "      number: The number to check.\n",
        "\n",
        "    Returns:\n",
        "      A string indicating whether the number is positive, negative, or zero.\n",
        "    \"\"\"\n",
        "    if number > 0:\n",
        "        return \"Positive\"\n",
        "    elif number < 0:\n",
        "        return \"Negative\"\n",
        "    else:\n",
        "        return \"Zero\"\n",
        "\n",
        "# Get input from the user\n",
        "try:\n",
        "    num = float(input(\"Enter a number: \"))\n",
        "    result = check_number(num)\n",
        "    print(f\"The number is: {result}\")\n",
        "except ValueError:\n",
        "    print(\"Invalid input. Please enter a valid number.\")\n",
        "    '''"
      ],
      "metadata": {
        "id": "hDYderY0Qs0a"
      },
      "execution_count": null,
      "outputs": []
    },
    {
      "cell_type": "code",
      "source": [
        "# Q12 write a for loop to print 1 to 10.\n",
        "\n",
        "\n",
        "'''python\n",
        "for number in range(1, 11):\n",
        "    print(number)\n",
        "'''"
      ],
      "metadata": {
        "id": "iHTSpdLwRobM"
      },
      "execution_count": null,
      "outputs": []
    },
    {
      "cell_type": "code",
      "source": [
        "# Q13 write a python program to find sum of all even numbers between 1 and 50.\n",
        "\n",
        "'''python\n",
        "sum_of_evens=0\n",
        "for number in range(2,51,2):\n",
        "  sum_of_evens+=number\n",
        "\n",
        "print(sum_of_evens)\n",
        "'''"
      ],
      "metadata": {
        "id": "qRPzv2IsSEiH"
      },
      "execution_count": null,
      "outputs": []
    },
    {
      "cell_type": "code",
      "source": [
        "# Q14 write a program to reverse a string using a while loop.\n",
        "\n",
        "'''python\n",
        "def reverse_string(s):\n",
        "  reversed_string=\"\"\n",
        "  index=len(s)-1\n",
        "  while index>=0:\n",
        "    reversed_string+=s[index]\n",
        "    index-=1\n",
        "  return reversed_string\n",
        "\n",
        "#example usage;\n",
        "my_string=\"hello\"\n",
        "reversed_string=reverse_string(my_string)\n",
        "print(reversed_string)\n",
        "'''"
      ],
      "metadata": {
        "id": "mWJWpxCFTAmi"
      },
      "execution_count": null,
      "outputs": []
    },
    {
      "cell_type": "code",
      "source": [
        "# Q15 write a python program to calculate  the factorial of a number provided by the user using a while loop.\n",
        "\n",
        "'''python\n",
        "def factorial_with_while(n):\n",
        "    if n < 0:\n",
        "        return \"Factorial is not defined for negative numbers\"\n",
        "    elif n == 0:\n",
        "        return 1\n",
        "    else:\n",
        "        factorial = 1\n",
        "        i = 1\n",
        "        while i <= n:\n",
        "            factorial *= i\n",
        "            i += 1\n",
        "        return factorial\n",
        "\n",
        "# Get input from the user\n",
        "num = int(input(\"Enter a non-negative integer: \"))\n",
        "\n",
        "# Calculate and print the factorial\n",
        "result = factorial_with_while(num)\n",
        "print(f\"The factorial of {num} is {result}\")\n",
        "'''"
      ],
      "metadata": {
        "id": "llaRlTtYT7ZG"
      },
      "execution_count": null,
      "outputs": []
    },
    {
      "cell_type": "code",
      "source": [],
      "metadata": {
        "id": "aTPryb8T7_XP"
      },
      "execution_count": null,
      "outputs": []
    }
  ]
}